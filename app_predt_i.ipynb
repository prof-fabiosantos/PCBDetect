{
 "cells": [
  {
   "cell_type": "code",
   "execution_count": 1,
   "id": "553fc31c",
   "metadata": {},
   "outputs": [],
   "source": [
    "import os\n",
    "import numpy as np\n",
    "import pandas as pd\n",
    "from PIL import Image\n",
    "import tensorflow as tf\n",
    "from tensorflow.keras.models import load_model\n",
    "from tensorflow.keras.preprocessing import image\n",
    "from flask import Flask, render_template, request\n",
    "from tensorflow.keras.preprocessing.image import load_img\n",
    "from tensorflow.keras.preprocessing.image import img_to_array"
   ]
  },
  {
   "cell_type": "code",
   "execution_count": 2,
   "id": "b9fffc50",
   "metadata": {},
   "outputs": [],
   "source": [
    "app = Flask(__name__)"
   ]
  },
  {
   "cell_type": "code",
   "execution_count": 3,
   "id": "d8136b8b",
   "metadata": {},
   "outputs": [],
   "source": [
    "def get_model():\n",
    "    global model\n",
    "    model = load_model('model.h5')\n",
    "    print(\"Model loaded!\")"
   ]
  },
  {
   "cell_type": "code",
   "execution_count": 4,
   "id": "30c99b2d",
   "metadata": {},
   "outputs": [],
   "source": [
    "def load_image(img_path):\n",
    "\n",
    "    img = image.load_img(img_path, target_size=(224, 224))\n",
    "    img_tensor = image.img_to_array(img)                    # (height, width, channels)\n",
    "    img_tensor = np.expand_dims(img_tensor, axis=0)         # (1, height, width, channels), add a dimension because the model expects this shape: (batch_size, height, width, channels)\n",
    "    img_tensor /= 255.                                      # imshow expects values in the range [0, 1]\n",
    "\n",
    "    return img_tensor"
   ]
  },
  {
   "cell_type": "code",
   "execution_count": 5,
   "id": "3a55e509",
   "metadata": {},
   "outputs": [],
   "source": [
    "def prediction(img_path):\n",
    "    new_image = load_image(img_path)\n",
    "    \n",
    "    pred = model.predict(new_image)\n",
    "    \n",
    "    print(pred)\n",
    "    \n",
    "    labels=np.array(pred)\n",
    "    labels[labels>=0.6]=1\n",
    "    labels[labels<0.6]=0\n",
    "    \n",
    "    print(labels)\n",
    "    final=np.array(labels)\n",
    "    \n",
    "    if final[0][0]==1:\n",
    "        return \"Bad\"\n",
    "    else:\n",
    "        return \"Good\""
   ]
  },
  {
   "cell_type": "code",
   "execution_count": 6,
   "id": "7ce0915d",
   "metadata": {},
   "outputs": [
    {
     "name": "stdout",
     "output_type": "stream",
     "text": [
      "Model loaded!\n"
     ]
    }
   ],
   "source": [
    "get_model()"
   ]
  },
  {
   "cell_type": "code",
   "execution_count": 7,
   "id": "f8ca0400",
   "metadata": {},
   "outputs": [],
   "source": [
    "@app.route(\"/\", methods=['GET', 'POST'])\n",
    "def home():\n",
    "\n",
    "    return render_template('home.html')\n",
    "\n",
    "@app.route(\"/predict\", methods = ['GET','POST'])\n",
    "def predict():\n",
    "    \n",
    "    if request.method == 'POST':\n",
    "        \n",
    "        file = request.files['file']\n",
    "        filename = file.filename\n",
    "        file_path = os.path.join(r'static/', filename)                       #slashes should be handeled properly\n",
    "        file.save(file_path)\n",
    "        print(filename)\n",
    "        product = prediction(file_path)\n",
    "        print(product)\n",
    "        \n",
    "    return render_template('predict.html', product = product, user_image = file_path)            #file_path can or may used at the place of filename"
   ]
  },
  {
   "cell_type": "code",
   "execution_count": null,
   "id": "ad070c41",
   "metadata": {
    "scrolled": false
   },
   "outputs": [
    {
     "name": "stdout",
     "output_type": "stream",
     "text": [
      " * Serving Flask app '__main__' (lazy loading)\n",
      " * Environment: production\n",
      "\u001b[31m   WARNING: This is a development server. Do not use it in a production deployment.\u001b[0m\n",
      "\u001b[2m   Use a production WSGI server instead.\u001b[0m\n",
      " * Debug mode: off\n"
     ]
    },
    {
     "name": "stderr",
     "output_type": "stream",
     "text": [
      " * Running on http://127.0.0.1:5000/ (Press CTRL+C to quit)\n",
      "127.0.0.1 - - [25/Aug/2022 12:19:27] \"GET / HTTP/1.1\" 200 -\n",
      "127.0.0.1 - - [25/Aug/2022 12:19:28] \"GET /favicon.ico HTTP/1.1\" 404 -\n"
     ]
    },
    {
     "name": "stdout",
     "output_type": "stream",
     "text": [
      "bad (24)k.jpeg\n"
     ]
    },
    {
     "name": "stderr",
     "output_type": "stream",
     "text": [
      "127.0.0.1 - - [25/Aug/2022 12:19:54] \"POST /predict HTTP/1.1\" 200 -\n",
      "127.0.0.1 - - [25/Aug/2022 12:19:54] \"GET /static/bad%20(24)k.jpeg HTTP/1.1\" 200 -\n"
     ]
    },
    {
     "name": "stdout",
     "output_type": "stream",
     "text": [
      "[[0.99746203 0.00253799]]\n",
      "[[1. 0.]]\n",
      "Bad\n"
     ]
    },
    {
     "name": "stderr",
     "output_type": "stream",
     "text": [
      "127.0.0.1 - - [25/Aug/2022 12:22:12] \"GET / HTTP/1.1\" 200 -\n",
      "127.0.0.1 - - [25/Aug/2022 12:22:21] \"POST /predict HTTP/1.1\" 200 -\n",
      "127.0.0.1 - - [25/Aug/2022 12:22:21] \"GET /static/good%20(447)k.jpeg HTTP/1.1\" 200 -\n"
     ]
    },
    {
     "name": "stdout",
     "output_type": "stream",
     "text": [
      "good (447)k.jpeg\n",
      "[[1.2706597e-05 9.9998724e-01]]\n",
      "[[0. 1.]]\n",
      "Good\n"
     ]
    },
    {
     "name": "stderr",
     "output_type": "stream",
     "text": [
      "127.0.0.1 - - [25/Aug/2022 12:22:32] \"POST /predict HTTP/1.1\" 200 -\n",
      "127.0.0.1 - - [25/Aug/2022 12:22:32] \"GET /static/bad%20(106)k.jpeg HTTP/1.1\" 200 -\n"
     ]
    },
    {
     "name": "stdout",
     "output_type": "stream",
     "text": [
      "bad (106)k.jpeg\n",
      "[[9.9999940e-01 5.8715597e-07]]\n",
      "[[1. 0.]]\n",
      "Bad\n"
     ]
    }
   ],
   "source": [
    "if __name__ == \"__main__\":\n",
    "    app.run()"
   ]
  },
  {
   "cell_type": "code",
   "execution_count": null,
   "id": "1573480a",
   "metadata": {},
   "outputs": [],
   "source": []
  },
  {
   "cell_type": "code",
   "execution_count": null,
   "id": "16b875c6",
   "metadata": {},
   "outputs": [],
   "source": []
  },
  {
   "cell_type": "code",
   "execution_count": null,
   "id": "dbddc07f",
   "metadata": {},
   "outputs": [],
   "source": []
  }
 ],
 "metadata": {
  "kernelspec": {
   "display_name": "Python 3 (ipykernel)",
   "language": "python",
   "name": "python3"
  },
  "language_info": {
   "codemirror_mode": {
    "name": "ipython",
    "version": 3
   },
   "file_extension": ".py",
   "mimetype": "text/x-python",
   "name": "python",
   "nbconvert_exporter": "python",
   "pygments_lexer": "ipython3",
   "version": "3.9.12"
  }
 },
 "nbformat": 4,
 "nbformat_minor": 5
}
